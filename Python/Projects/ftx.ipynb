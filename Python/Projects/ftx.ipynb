{
 "cells": [
  {
   "cell_type": "code",
   "execution_count": 9,
   "metadata": {},
   "outputs": [],
   "source": [
    "import requests\n",
    "from bs4 import BeautifulSoup\n",
    "headers = {'User-agent':'Mozilla/5.0 (X11; Linux x86_64) AppleWebKit/537.36 (KHTML, like Gecko) Chrome/69.0.3497.100 Safari/537.36'}\n",
    "res = requests.get('http://gz.esf.fang.com/house/i31/',headers = headers)\n",
    "soup = BeautifulSoup(res.text,'lxml')"
   ]
  },
  {
   "cell_type": "code",
   "execution_count": 16,
   "metadata": {},
   "outputs": [
    {
     "ename": "SyntaxError",
     "evalue": "invalid syntax (<ipython-input-16-50b9ec420588>, line 2)",
     "output_type": "error",
     "traceback": [
      "\u001b[0;36m  File \u001b[0;32m\"<ipython-input-16-50b9ec420588>\"\u001b[0;36m, line \u001b[0;32m2\u001b[0m\n\u001b[0;31m    for i in house.find_all('dl')\u001b[0m\n\u001b[0m                                 ^\u001b[0m\n\u001b[0;31mSyntaxError\u001b[0m\u001b[0;31m:\u001b[0m invalid syntax\n"
     ]
    }
   ],
   "source": []
  },
  {
   "cell_type": "code",
   "execution_count": null,
   "metadata": {},
   "outputs": [],
   "source": [
    "info = soup.find_all(\"dl\", {'class':'attributes dl-horizontal'})\n",
    "\n",
    "comp_info = pd.DataFrame()\n",
    "cleaned_id_text = []\n",
    "for i in info[0].find_all('dt'):\n",
    "    cleaned_id_text.append(i.text)\n",
    "cleaned_id__attrb_text = []\n",
    "for i in info[0].find_all('dd'):\n",
    "    cleaned_id__attrb_text.append(i.text)\n",
    "\n",
    "comp_info['Id'] = cleaned_id_text\n",
    "comp_info['Attribute'] = cleaned_id__attrb_text\n",
    "comp_info"
   ]
  },
  {
   "cell_type": "code",
   "execution_count": 10,
   "metadata": {},
   "outputs": [],
   "source": [
    "house = []\n",
    "for house in soup.select('.clearfix.text'):\n",
    "    house.append({'Tittle':house.select('.tit_shop')[0].text})"
   ]
  },
  {
   "cell_type": "code",
   "execution_count": 11,
   "metadata": {
    "scrolled": true
   },
   "outputs": [
    {
     "data": {
      "text/html": [
       "<div>\n",
       "<style scoped>\n",
       "    .dataframe tbody tr th:only-of-type {\n",
       "        vertical-align: middle;\n",
       "    }\n",
       "\n",
       "    .dataframe tbody tr th {\n",
       "        vertical-align: top;\n",
       "    }\n",
       "\n",
       "    .dataframe thead th {\n",
       "        text-align: right;\n",
       "    }\n",
       "</style>\n",
       "<table border=\"1\" class=\"dataframe\">\n",
       "  <thead>\n",
       "    <tr style=\"text-align: right;\">\n",
       "      <th></th>\n",
       "    </tr>\n",
       "  </thead>\n",
       "  <tbody>\n",
       "  </tbody>\n",
       "</table>\n",
       "</div>"
      ],
      "text/plain": [
       "Empty DataFrame\n",
       "Columns: []\n",
       "Index: []"
      ]
     },
     "execution_count": 11,
     "metadata": {},
     "output_type": "execute_result"
    }
   ],
   "source": [
    "import pandas\n",
    "house_sdf = pandas.DataFrame(house)\n",
    "house_sdf"
   ]
  },
  {
   "cell_type": "code",
   "execution_count": null,
   "metadata": {},
   "outputs": [],
   "source": [
    "house_sdf.to_excel('GZ_House.xlsx')"
   ]
  },
  {
   "cell_type": "code",
   "execution_count": null,
   "metadata": {},
   "outputs": [],
   "source": [
    "import requests\n",
    "from bs4 import BeautifulSoup\n",
    "res = requests.get('http://news.qq.com/')\n",
    "#get方式访问获取腾讯新闻首页的响应体，结果命名为res\n",
    "soup = BeautifulSoup(res.text, 'html.parser')\n",
    "#创建BeautifulSoup对象，利用html.parser对网页的文本内容进行解析\n",
    "newsary=[]   \n",
    "#定义newsary列表为空，用于存储所有新闻的标题与url\n",
    "for news in soup.select('.Q-tpWrap .text'):\n",
    "      newsary.append({'title':news.select('.linkto')[0].text,'url':news.select('.linkto')[0]['href']})\n",
    "        #将用key为title,url分别保存每条新闻的标题与访问网址,并追加到newsary列表里面"
   ]
  }
 ],
 "metadata": {
  "kernelspec": {
   "display_name": "Python 3",
   "language": "python",
   "name": "python3"
  },
  "language_info": {
   "codemirror_mode": {
    "name": "ipython",
    "version": 3
   },
   "file_extension": ".py",
   "mimetype": "text/x-python",
   "name": "python",
   "nbconvert_exporter": "python",
   "pygments_lexer": "ipython3",
   "version": "3.7.0"
  }
 },
 "nbformat": 4,
 "nbformat_minor": 2
}
