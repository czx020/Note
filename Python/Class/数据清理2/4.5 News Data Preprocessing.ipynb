{
 "cells": [
  {
   "cell_type": "markdown",
   "metadata": {},
   "source": [
    "## 读取news.xlsx文件"
   ]
  },
  {
   "cell_type": "code",
   "execution_count": 3,
   "metadata": {
    "collapsed": false
   },
   "outputs": [
    {
     "data": {
      "text/html": [
       "<div>\n",
       "<table border=\"1\" class=\"dataframe\">\n",
       "  <thead>\n",
       "    <tr style=\"text-align: right;\">\n",
       "      <th></th>\n",
       "      <th>content</th>\n",
       "      <th>keyword</th>\n",
       "      <th>source</th>\n",
       "      <th>title</th>\n",
       "    </tr>\n",
       "  </thead>\n",
       "  <tbody>\n",
       "    <tr>\n",
       "      <th>0</th>\n",
       "      <td>原标题：台农发批农业部门：没配套没资源 怎么外销出口 中新网6月14日电 据台湾《联合报》报...</td>\n",
       "      <td>\\n关键字 : \\n联合报农发农业部门</td>\n",
       "      <td>\\n2018年06月14日 13:14\\n中国新闻网</td>\n",
       "      <td>台农发批农业部门：没配套没资源 怎么外销出口</td>\n",
       "    </tr>\n",
       "    <tr>\n",
       "      <th>1</th>\n",
       "      <td>原标题：田义祥少将已接替郭春富少将出任中央军委审计署审计长 军委机关15个职能部门近期出现一...</td>\n",
       "      <td>\\n关键字 : \\n田义祥郭春富中央军委审计署</td>\n",
       "      <td>\\n2018年06月14日 13:13\\n澎湃新闻</td>\n",
       "      <td>田义祥少将已出任中央军委审计署审计长</td>\n",
       "    </tr>\n",
       "    <tr>\n",
       "      <th>2</th>\n",
       "      <td>原标题：中央环保督察杀“回马枪” 揪出这些老病、通病 中新网客户端北京6月14日电（冷昊阳）...</td>\n",
       "      <td>\\n关键字 : \\n定州督察组督察</td>\n",
       "      <td>\\n2018年06月14日 13:08\\n中国新闻网</td>\n",
       "      <td>中央环保督察杀“回马枪” 揪出这些老病通病(图)</td>\n",
       "    </tr>\n",
       "    <tr>\n",
       "      <th>3</th>\n",
       "      <td>原标题：查毅超接棒罗范椒芬7月起任香港科技园主席 中新社香港6月14日电 香港特区政府14日...</td>\n",
       "      <td>\\n关键字 : \\n罗范椒芬查毅超科技园</td>\n",
       "      <td>\\n2018年06月14日 12:28\\n中国新闻网</td>\n",
       "      <td>查毅超将接棒罗范椒芬任香港科技园主席 7月开始</td>\n",
       "    </tr>\n",
       "    <tr>\n",
       "      <th>4</th>\n",
       "      <td>原标题：周小川：这些事不做的话，真是没把握说下一轮危机会不会再来 周小川出席陆家嘴论坛。 东...</td>\n",
       "      <td>\\n关键字 : \\n陆家嘴论坛周小川金融危机</td>\n",
       "      <td>\\n2018年06月14日 12:25\\n澎湃新闻</td>\n",
       "      <td>周小川：这些事不做 没把握说下轮危机会不会再来</td>\n",
       "    </tr>\n",
       "    <tr>\n",
       "      <th>5</th>\n",
       "      <td>原标题：刘金来大校任河南省军区副政委兼纪委书记 刚刚更换司令员的河南省军区，又迎来一名新任副...</td>\n",
       "      <td>\\n关键字 : \\n大校军区纪委书记刘金来河南省</td>\n",
       "      <td>\\n2018年06月14日 12:21\\n澎湃新闻</td>\n",
       "      <td>刘金来大校任河南省军区副政委兼纪委书记</td>\n",
       "    </tr>\n",
       "    <tr>\n",
       "      <th>6</th>\n",
       "      <td>[重磅！5G第一个版本出炉]14日，记者从中国移动研究院获悉，当地时间2018年6月13日2...</td>\n",
       "      <td>\\n关键字 : \\n中国移动5G研究院</td>\n",
       "      <td>\\n2018年06月14日 12:10\\n中国新闻网作者：中国新闻网</td>\n",
       "      <td>中国移动研究院：5G第一个版本出炉</td>\n",
       "    </tr>\n",
       "    <tr>\n",
       "      <th>7</th>\n",
       "      <td>原标题：聚焦|胆忒大！假冒中将欲登机，军地联手擒“李鬼” 6月8日，云南省芒市机场人头攒动。...</td>\n",
       "      <td>\\n关键字 : \\n军人军地李鬼军官证</td>\n",
       "      <td>\\n2018年06月14日 12:04\\n军报记者</td>\n",
       "      <td>男子假冒中将欲登机 军地联手擒“李鬼”</td>\n",
       "    </tr>\n",
       "    <tr>\n",
       "      <th>8</th>\n",
       "      <td>原标题：江苏无锡一在建工地钢管高空坠落 致地面工人2死3伤 图为6月12日下午，江苏无锡一在...</td>\n",
       "      <td>\\n关键字 : \\n高空坠落钢管江苏无锡</td>\n",
       "      <td>\\n2018年06月14日 12:04\\n中国新闻网</td>\n",
       "      <td>江苏一在建工地钢管高空坠落 致地面工人2死3伤</td>\n",
       "    </tr>\n",
       "    <tr>\n",
       "      <th>9</th>\n",
       "      <td>日前，多家中国旅行社和球迷向中国驻俄罗斯使馆反映，其通过俄罗斯莫斯科安郅公司订购了2018年...</td>\n",
       "      <td>\\n关键字 : \\n世界杯球票球迷</td>\n",
       "      <td>\\n2018年06月14日 11:57\\n外交部网站</td>\n",
       "      <td>中国驻俄使馆提醒球迷同胞:务必经正规渠道买球票</td>\n",
       "    </tr>\n",
       "  </tbody>\n",
       "</table>\n",
       "</div>"
      ],
      "text/plain": [
       "                                             content  \\\n",
       "0  原标题：台农发批农业部门：没配套没资源 怎么外销出口 中新网6月14日电 据台湾《联合报》报...   \n",
       "1  原标题：田义祥少将已接替郭春富少将出任中央军委审计署审计长 军委机关15个职能部门近期出现一...   \n",
       "2  原标题：中央环保督察杀“回马枪” 揪出这些老病、通病 中新网客户端北京6月14日电（冷昊阳）...   \n",
       "3  原标题：查毅超接棒罗范椒芬7月起任香港科技园主席 中新社香港6月14日电 香港特区政府14日...   \n",
       "4  原标题：周小川：这些事不做的话，真是没把握说下一轮危机会不会再来 周小川出席陆家嘴论坛。 东...   \n",
       "5  原标题：刘金来大校任河南省军区副政委兼纪委书记 刚刚更换司令员的河南省军区，又迎来一名新任副...   \n",
       "6  [重磅！5G第一个版本出炉]14日，记者从中国移动研究院获悉，当地时间2018年6月13日2...   \n",
       "7  原标题：聚焦|胆忒大！假冒中将欲登机，军地联手擒“李鬼” 6月8日，云南省芒市机场人头攒动。...   \n",
       "8  原标题：江苏无锡一在建工地钢管高空坠落 致地面工人2死3伤 图为6月12日下午，江苏无锡一在...   \n",
       "9  日前，多家中国旅行社和球迷向中国驻俄罗斯使馆反映，其通过俄罗斯莫斯科安郅公司订购了2018年...   \n",
       "\n",
       "                     keyword                               source  \\\n",
       "0       \\n关键字 : \\n联合报农发农业部门           \\n2018年06月14日 13:14\\n中国新闻网    \n",
       "1   \\n关键字 : \\n田义祥郭春富中央军委审计署            \\n2018年06月14日 13:13\\n澎湃新闻    \n",
       "2         \\n关键字 : \\n定州督察组督察           \\n2018年06月14日 13:08\\n中国新闻网    \n",
       "3      \\n关键字 : \\n罗范椒芬查毅超科技园           \\n2018年06月14日 12:28\\n中国新闻网    \n",
       "4    \\n关键字 : \\n陆家嘴论坛周小川金融危机            \\n2018年06月14日 12:25\\n澎湃新闻    \n",
       "5  \\n关键字 : \\n大校军区纪委书记刘金来河南省            \\n2018年06月14日 12:21\\n澎湃新闻    \n",
       "6       \\n关键字 : \\n中国移动5G研究院   \\n2018年06月14日 12:10\\n中国新闻网作者：中国新闻网    \n",
       "7       \\n关键字 : \\n军人军地李鬼军官证            \\n2018年06月14日 12:04\\n军报记者    \n",
       "8      \\n关键字 : \\n高空坠落钢管江苏无锡           \\n2018年06月14日 12:04\\n中国新闻网    \n",
       "9         \\n关键字 : \\n世界杯球票球迷           \\n2018年06月14日 11:57\\n外交部网站    \n",
       "\n",
       "                      title  \n",
       "0    台农发批农业部门：没配套没资源 怎么外销出口  \n",
       "1        田义祥少将已出任中央军委审计署审计长  \n",
       "2  中央环保督察杀“回马枪” 揪出这些老病通病(图)  \n",
       "3   查毅超将接棒罗范椒芬任香港科技园主席 7月开始  \n",
       "4   周小川：这些事不做 没把握说下轮危机会不会再来  \n",
       "5       刘金来大校任河南省军区副政委兼纪委书记  \n",
       "6         中国移动研究院：5G第一个版本出炉  \n",
       "7       男子假冒中将欲登机 军地联手擒“李鬼”  \n",
       "8   江苏一在建工地钢管高空坠落 致地面工人2死3伤  \n",
       "9   中国驻俄使馆提醒球迷同胞:务必经正规渠道买球票  "
      ]
     },
     "execution_count": 3,
     "metadata": {},
     "output_type": "execute_result"
    }
   ],
   "source": [
    "import pandas\n",
    "#将抓取返回的数据列组合成数据框df\n",
    "df = pandas.read_excel('news.xlsx')\n",
    "#输出打印df的行数与列数\n",
    "df.shape\n",
    "df.head(10)"
   ]
  },
  {
   "cell_type": "markdown",
   "metadata": {},
   "source": [
    "## 整理文章关键词"
   ]
  },
  {
   "cell_type": "code",
   "execution_count": 4,
   "metadata": {
    "collapsed": false
   },
   "outputs": [
    {
     "data": {
      "text/plain": [
       "content    False\n",
       "keyword     True\n",
       "source      True\n",
       "title      False\n",
       "dtype: bool"
      ]
     },
     "execution_count": 4,
     "metadata": {},
     "output_type": "execute_result"
    }
   ],
   "source": [
    "#判断df中每一列是否有空的单元格\n",
    "df.isnull().any()"
   ]
  },
  {
   "cell_type": "code",
   "execution_count": 6,
   "metadata": {
    "collapsed": false
   },
   "outputs": [
    {
     "data": {
      "text/plain": [
       "(102, 4)"
      ]
     },
     "execution_count": 6,
     "metadata": {},
     "output_type": "execute_result"
    }
   ],
   "source": [
    "#将具有空单元格的行数据删除\n",
    "df.dropna()\n",
    "df.shape"
   ]
  },
  {
   "cell_type": "code",
   "execution_count": 7,
   "metadata": {
    "collapsed": false
   },
   "outputs": [
    {
     "data": {
      "text/plain": [
       "0        \\n关键字 : \\n联合报农发农业部门 \n",
       "1    \\n关键字 : \\n田义祥郭春富中央军委审计署 \n",
       "2          \\n关键字 : \\n定州督察组督察 \n",
       "Name: keyword, dtype: object"
      ]
     },
     "execution_count": 7,
     "metadata": {},
     "output_type": "execute_result"
    }
   ],
   "source": [
    "df['keyword'].head(3)"
   ]
  },
  {
   "cell_type": "code",
   "execution_count": 15,
   "metadata": {
    "collapsed": false
   },
   "outputs": [
    {
     "ename": "SyntaxError",
     "evalue": "EOL while scanning string literal (<ipython-input-15-f7af7b8610f0>, line 2)",
     "output_type": "error",
     "traceback": [
      "\u001b[1;36m  File \u001b[1;32m\"<ipython-input-15-f7af7b8610f0>\"\u001b[1;36m, line \u001b[1;32m2\u001b[0m\n\u001b[1;33m    s = ' \\n关键字 : \\n联合报农发农业部门\u001b[0m\n\u001b[1;37m                              ^\u001b[0m\n\u001b[1;31mSyntaxError\u001b[0m\u001b[1;31m:\u001b[0m EOL while scanning string literal\n"
     ]
    }
   ],
   "source": [
    "#对df的keyword列提取关键词并将提取结果覆盖原keyword列 提示：先根据空格切割split再索引\n",
    "s = ' \\n关键字 : \\n联合报农发农业部门 \n",
    "df['keyword'] = df['keyword'].map(lambda e:e.split(':')[1].strip())"
   ]
  },
  {
   "cell_type": "code",
   "execution_count": 7,
   "metadata": {
    "collapsed": false
   },
   "outputs": [
    {
     "data": {
      "text/html": [
       "<div>\n",
       "<style scoped>\n",
       "    .dataframe tbody tr th:only-of-type {\n",
       "        vertical-align: middle;\n",
       "    }\n",
       "\n",
       "    .dataframe tbody tr th {\n",
       "        vertical-align: top;\n",
       "    }\n",
       "\n",
       "    .dataframe thead th {\n",
       "        text-align: right;\n",
       "    }\n",
       "</style>\n",
       "<table border=\"1\" class=\"dataframe\">\n",
       "  <thead>\n",
       "    <tr style=\"text-align: right;\">\n",
       "      <th></th>\n",
       "      <th>content</th>\n",
       "      <th>keyword</th>\n",
       "      <th>source</th>\n",
       "      <th>title</th>\n",
       "    </tr>\n",
       "  </thead>\n",
       "  <tbody>\n",
       "    <tr>\n",
       "      <th>0</th>\n",
       "      <td>原标题：台农发批农业部门：没配套没资源 怎么外销出口 中新网6月14日电 据台湾《联合报》报...</td>\n",
       "      <td>联合报农发农业部门</td>\n",
       "      <td>\\n2018年06月14日 13:14\\n中国新闻网</td>\n",
       "      <td>台农发批农业部门：没配套没资源 怎么外销出口</td>\n",
       "    </tr>\n",
       "    <tr>\n",
       "      <th>1</th>\n",
       "      <td>原标题：田义祥少将已接替郭春富少将出任中央军委审计署审计长 军委机关15个职能部门近期出现一...</td>\n",
       "      <td>田义祥郭春富中央军委审计署</td>\n",
       "      <td>\\n2018年06月14日 13:13\\n澎湃新闻</td>\n",
       "      <td>田义祥少将已出任中央军委审计署审计长</td>\n",
       "    </tr>\n",
       "    <tr>\n",
       "      <th>2</th>\n",
       "      <td>原标题：中央环保督察杀“回马枪” 揪出这些老病、通病 中新网客户端北京6月14日电（冷昊阳）...</td>\n",
       "      <td>定州督察组督察</td>\n",
       "      <td>\\n2018年06月14日 13:08\\n中国新闻网</td>\n",
       "      <td>中央环保督察杀“回马枪” 揪出这些老病通病(图)</td>\n",
       "    </tr>\n",
       "  </tbody>\n",
       "</table>\n",
       "</div>"
      ],
      "text/plain": [
       "                                             content        keyword  \\\n",
       "0  原标题：台农发批农业部门：没配套没资源 怎么外销出口 中新网6月14日电 据台湾《联合报》报...      联合报农发农业部门   \n",
       "1  原标题：田义祥少将已接替郭春富少将出任中央军委审计署审计长 军委机关15个职能部门近期出现一...  田义祥郭春富中央军委审计署   \n",
       "2  原标题：中央环保督察杀“回马枪” 揪出这些老病、通病 中新网客户端北京6月14日电（冷昊阳）...        定州督察组督察   \n",
       "\n",
       "                        source                     title  \n",
       "0  \\n2018年06月14日 13:14\\n中国新闻网     台农发批农业部门：没配套没资源 怎么外销出口  \n",
       "1   \\n2018年06月14日 13:13\\n澎湃新闻         田义祥少将已出任中央军委审计署审计长  \n",
       "2  \\n2018年06月14日 13:08\\n中国新闻网   中央环保督察杀“回马枪” 揪出这些老病通病(图)  "
      ]
     },
     "execution_count": 7,
     "metadata": {},
     "output_type": "execute_result"
    }
   ],
   "source": [
    "df.head(3)"
   ]
  },
  {
   "cell_type": "markdown",
   "metadata": {},
   "source": [
    "## 使用正规表达法抽取时间与源数据"
   ]
  },
  {
   "cell_type": "code",
   "execution_count": 21,
   "metadata": {
    "collapsed": false
   },
   "outputs": [
    {
     "data": {
      "text/plain": [
       "0    \\n2018年06月14日 13:14\\n中国新闻网 \n",
       "1     \\n2018年06月14日 13:13\\n澎湃新闻 \n",
       "2    \\n2018年06月14日 13:08\\n中国新闻网 \n",
       "3    \\n2018年06月14日 12:28\\n中国新闻网 \n",
       "4     \\n2018年06月14日 12:25\\n澎湃新闻 \n",
       "Name: source, dtype: object"
      ]
     },
     "execution_count": 21,
     "metadata": {},
     "output_type": "execute_result"
    }
   ],
   "source": [
    "df['source'].head()\n"
   ]
  },
  {
   "cell_type": "code",
   "execution_count": 8,
   "metadata": {
    "collapsed": false
   },
   "outputs": [
    {
     "data": {
      "text/plain": [
       "0     2018-06-14\n",
       "1     2018-06-14\n",
       "2     2018-06-14\n",
       "3     2018-06-14\n",
       "4     2018-06-14\n",
       "5     2018-06-14\n",
       "6     2018-06-14\n",
       "7     2018-06-14\n",
       "8     2018-06-14\n",
       "9     2018-06-14\n",
       "10    2018-06-14\n",
       "12    2018-06-14\n",
       "13    2018-06-14\n",
       "14    2018-06-14\n",
       "15    2018-06-14\n",
       "16    2018-06-14\n",
       "17    2018-06-14\n",
       "18    2018-06-14\n",
       "19    2018-06-14\n",
       "20    2018-06-14\n",
       "21    2018-06-14\n",
       "24    2018-04-11\n",
       "25    2018-04-11\n",
       "26    2018-04-11\n",
       "27    2018-04-11\n",
       "28    2018-04-11\n",
       "29    2018-04-11\n",
       "30    2018-04-11\n",
       "31    2018-04-11\n",
       "32    2018-04-11\n",
       "         ...    \n",
       "73    2018-04-03\n",
       "74    2018-04-03\n",
       "75    2018-04-03\n",
       "76    2018-04-03\n",
       "77    2018-04-02\n",
       "78    2018-04-03\n",
       "79    2018-04-03\n",
       "80    2018-04-03\n",
       "81    2018-04-03\n",
       "82    2018-04-03\n",
       "83    2018-04-03\n",
       "84    2018-04-03\n",
       "85    2018-03-27\n",
       "86    2018-03-07\n",
       "87    2018-03-04\n",
       "89    2018-02-25\n",
       "90    2018-02-23\n",
       "91    2018-02-23\n",
       "92    2018-02-05\n",
       "93    2018-01-31\n",
       "94    2018-01-29\n",
       "95    2018-01-27\n",
       "96    2018-01-27\n",
       "97    2018-01-26\n",
       "98    2018-01-25\n",
       "99    2018-01-25\n",
       "100   2018-01-25\n",
       "101   2018-01-23\n",
       "102   2018-01-23\n",
       "103   2018-01-22\n",
       "Name: source, Length: 99, dtype: datetime64[ns]"
      ]
     },
     "execution_count": 8,
     "metadata": {},
     "output_type": "execute_result"
    }
   ],
   "source": [
    "#法一 对source列根据空格应用切割函数"
   ]
  },
  {
   "cell_type": "code",
   "execution_count": 11,
   "metadata": {
    "collapsed": false
   },
   "outputs": [
    {
     "name": "stderr",
     "output_type": "stream",
     "text": [
      "C:\\ProgramData\\Anaconda3\\lib\\site-packages\\ipykernel_launcher.py:2: FutureWarning: currently extract(expand=None) means expand=False (return Index/Series/DataFrame) but in a future version of pandas this will be changed to expand=True (return DataFrame)\n",
      "  \n"
     ]
    },
    {
     "data": {
      "text/plain": [
       "0      2018年06月14日\n",
       "1      2018年06月14日\n",
       "2      2018年06月14日\n",
       "3      2018年06月14日\n",
       "4      2018年06月14日\n",
       "5      2018年06月14日\n",
       "6      2018年06月14日\n",
       "7      2018年06月14日\n",
       "8      2018年06月14日\n",
       "9      2018年06月14日\n",
       "10     2018年06月14日\n",
       "12     2018年06月14日\n",
       "13     2018年06月14日\n",
       "14     2018年06月14日\n",
       "15     2018年06月14日\n",
       "16     2018年06月14日\n",
       "17     2018年06月14日\n",
       "18     2018年06月14日\n",
       "19     2018年06月14日\n",
       "20     2018年06月14日\n",
       "21     2018年06月14日\n",
       "24     2018年04月11日\n",
       "25     2018年04月11日\n",
       "26     2018年04月11日\n",
       "27     2018年04月11日\n",
       "28     2018年04月11日\n",
       "29     2018年04月11日\n",
       "30     2018年04月11日\n",
       "31     2018年04月11日\n",
       "32     2018年04月11日\n",
       "          ...     \n",
       "73     2018年04月03日\n",
       "74     2018年04月03日\n",
       "75     2018年04月03日\n",
       "76     2018年04月03日\n",
       "77     2018年04月02日\n",
       "78     2018年04月03日\n",
       "79     2018年04月03日\n",
       "80     2018年04月03日\n",
       "81     2018年04月03日\n",
       "82     2018年04月03日\n",
       "83     2018年04月03日\n",
       "84     2018年04月03日\n",
       "85     2018年03月27日\n",
       "86     2018年03月07日\n",
       "87     2018年03月04日\n",
       "89     2018年02月25日\n",
       "90     2018年02月23日\n",
       "91     2018年02月23日\n",
       "92     2018年02月05日\n",
       "93     2018年01月31日\n",
       "94     2018年01月29日\n",
       "95     2018年01月27日\n",
       "96     2018年01月27日\n",
       "97     2018年01月26日\n",
       "98     2018年01月25日\n",
       "99     2018年01月25日\n",
       "100    2018年01月25日\n",
       "101    2018年01月23日\n",
       "102    2018年01月23日\n",
       "103    2018年01月22日\n",
       "Name: source, Length: 99, dtype: object"
      ]
     },
     "execution_count": 11,
     "metadata": {},
     "output_type": "execute_result"
    }
   ],
   "source": [
    "df.head(3)\n",
    "#法二 根据正则表达式提取str.extract"
   ]
  },
  {
   "cell_type": "code",
   "execution_count": 13,
   "metadata": {
    "collapsed": true
   },
   "outputs": [],
   "source": [
    "# df.head()"
   ]
  },
  {
   "cell_type": "code",
   "execution_count": 20,
   "metadata": {
    "collapsed": false
   },
   "outputs": [
    {
     "name": "stderr",
     "output_type": "stream",
     "text": [
      "C:\\ProgramData\\Anaconda3\\lib\\site-packages\\ipykernel_launcher.py:1: FutureWarning: currently extract(expand=None) means expand=False (return Index/Series/DataFrame) but in a future version of pandas this will be changed to expand=True (return DataFrame)\n",
      "  \"\"\"Entry point for launching an IPython kernel.\n"
     ]
    }
   ],
   "source": [
    "#根据正则表达式提取后的数据'datetime', 'from'合并入df"
   ]
  },
  {
   "cell_type": "code",
   "execution_count": 21,
   "metadata": {
    "collapsed": false
   },
   "outputs": [
    {
     "data": {
      "text/html": [
       "<div>\n",
       "<style scoped>\n",
       "    .dataframe tbody tr th:only-of-type {\n",
       "        vertical-align: middle;\n",
       "    }\n",
       "\n",
       "    .dataframe tbody tr th {\n",
       "        vertical-align: top;\n",
       "    }\n",
       "\n",
       "    .dataframe thead th {\n",
       "        text-align: right;\n",
       "    }\n",
       "</style>\n",
       "<table border=\"1\" class=\"dataframe\">\n",
       "  <thead>\n",
       "    <tr style=\"text-align: right;\">\n",
       "      <th></th>\n",
       "      <th>content</th>\n",
       "      <th>keyword</th>\n",
       "      <th>source</th>\n",
       "      <th>title</th>\n",
       "      <th>datetime</th>\n",
       "      <th>from</th>\n",
       "    </tr>\n",
       "  </thead>\n",
       "  <tbody>\n",
       "    <tr>\n",
       "      <th>0</th>\n",
       "      <td>原标题：台农发批农业部门：没配套没资源 怎么外销出口 中新网6月14日电 据台湾《联合报》报...</td>\n",
       "      <td>联合报农发农业部门</td>\n",
       "      <td>\\n2018年06月14日 13:14\\n中国新闻网</td>\n",
       "      <td>台农发批农业部门：没配套没资源 怎么外销出口</td>\n",
       "      <td>2018年06月14日</td>\n",
       "      <td>中国新闻网</td>\n",
       "    </tr>\n",
       "    <tr>\n",
       "      <th>1</th>\n",
       "      <td>原标题：田义祥少将已接替郭春富少将出任中央军委审计署审计长 军委机关15个职能部门近期出现一...</td>\n",
       "      <td>田义祥郭春富中央军委审计署</td>\n",
       "      <td>\\n2018年06月14日 13:13\\n澎湃新闻</td>\n",
       "      <td>田义祥少将已出任中央军委审计署审计长</td>\n",
       "      <td>2018年06月14日</td>\n",
       "      <td>澎湃新闻</td>\n",
       "    </tr>\n",
       "    <tr>\n",
       "      <th>2</th>\n",
       "      <td>原标题：中央环保督察杀“回马枪” 揪出这些老病、通病 中新网客户端北京6月14日电（冷昊阳）...</td>\n",
       "      <td>定州督察组督察</td>\n",
       "      <td>\\n2018年06月14日 13:08\\n中国新闻网</td>\n",
       "      <td>中央环保督察杀“回马枪” 揪出这些老病通病(图)</td>\n",
       "      <td>2018年06月14日</td>\n",
       "      <td>中国新闻网</td>\n",
       "    </tr>\n",
       "  </tbody>\n",
       "</table>\n",
       "</div>"
      ],
      "text/plain": [
       "                                             content        keyword  \\\n",
       "0  原标题：台农发批农业部门：没配套没资源 怎么外销出口 中新网6月14日电 据台湾《联合报》报...      联合报农发农业部门   \n",
       "1  原标题：田义祥少将已接替郭春富少将出任中央军委审计署审计长 军委机关15个职能部门近期出现一...  田义祥郭春富中央军委审计署   \n",
       "2  原标题：中央环保督察杀“回马枪” 揪出这些老病、通病 中新网客户端北京6月14日电（冷昊阳）...        定州督察组督察   \n",
       "\n",
       "                        source                     title     datetime   from  \n",
       "0  \\n2018年06月14日 13:14\\n中国新闻网     台农发批农业部门：没配套没资源 怎么外销出口  2018年06月14日  中国新闻网  \n",
       "1   \\n2018年06月14日 13:13\\n澎湃新闻         田义祥少将已出任中央军委审计署审计长  2018年06月14日   澎湃新闻  \n",
       "2  \\n2018年06月14日 13:08\\n中国新闻网   中央环保督察杀“回马枪” 揪出这些老病通病(图)  2018年06月14日  中国新闻网  "
      ]
     },
     "execution_count": 21,
     "metadata": {},
     "output_type": "execute_result"
    }
   ],
   "source": [
    "df.head(3)"
   ]
  },
  {
   "cell_type": "code",
   "execution_count": 22,
   "metadata": {
    "collapsed": false
   },
   "outputs": [
    {
     "name": "stdout",
     "output_type": "stream",
     "text": [
      "<class 'pandas.core.frame.DataFrame'>\n",
      "Int64Index: 99 entries, 0 to 103\n",
      "Data columns (total 6 columns):\n",
      "content     99 non-null object\n",
      "keyword     99 non-null object\n",
      "source      99 non-null object\n",
      "title       99 non-null object\n",
      "datetime    98 non-null object\n",
      "from        98 non-null object\n",
      "dtypes: object(6)\n",
      "memory usage: 7.9+ KB\n"
     ]
    }
   ],
   "source": [
    "df.info()"
   ]
  },
  {
   "cell_type": "markdown",
   "metadata": {},
   "source": [
    "## 转换时间格式"
   ]
  },
  {
   "cell_type": "code",
   "execution_count": 24,
   "metadata": {
    "collapsed": true
   },
   "outputs": [],
   "source": [
    "#将pandas整列数据转换成日期格式"
   ]
  },
  {
   "cell_type": "code",
   "execution_count": 25,
   "metadata": {
    "collapsed": false
   },
   "outputs": [
    {
     "data": {
      "text/plain": [
       "0   2018-06-14\n",
       "1   2018-06-14\n",
       "2   2018-06-14\n",
       "3   2018-06-14\n",
       "4   2018-06-14\n",
       "Name: datetime, dtype: datetime64[ns]"
      ]
     },
     "execution_count": 25,
     "metadata": {},
     "output_type": "execute_result"
    }
   ],
   "source": [
    "df['datetime'].head()"
   ]
  },
  {
   "cell_type": "code",
   "execution_count": 26,
   "metadata": {
    "collapsed": false
   },
   "outputs": [
    {
     "data": {
      "text/html": [
       "<div>\n",
       "<style scoped>\n",
       "    .dataframe tbody tr th:only-of-type {\n",
       "        vertical-align: middle;\n",
       "    }\n",
       "\n",
       "    .dataframe tbody tr th {\n",
       "        vertical-align: top;\n",
       "    }\n",
       "\n",
       "    .dataframe thead th {\n",
       "        text-align: right;\n",
       "    }\n",
       "</style>\n",
       "<table border=\"1\" class=\"dataframe\">\n",
       "  <thead>\n",
       "    <tr style=\"text-align: right;\">\n",
       "      <th></th>\n",
       "      <th>content</th>\n",
       "      <th>keyword</th>\n",
       "      <th>source</th>\n",
       "      <th>title</th>\n",
       "      <th>datetime</th>\n",
       "      <th>from</th>\n",
       "    </tr>\n",
       "  </thead>\n",
       "  <tbody>\n",
       "    <tr>\n",
       "      <th>0</th>\n",
       "      <td>原标题：台农发批农业部门：没配套没资源 怎么外销出口 中新网6月14日电 据台湾《联合报》报...</td>\n",
       "      <td>联合报农发农业部门</td>\n",
       "      <td>\\n2018年06月14日 13:14\\n中国新闻网</td>\n",
       "      <td>台农发批农业部门：没配套没资源 怎么外销出口</td>\n",
       "      <td>2018-06-14</td>\n",
       "      <td>中国新闻网</td>\n",
       "    </tr>\n",
       "    <tr>\n",
       "      <th>1</th>\n",
       "      <td>原标题：田义祥少将已接替郭春富少将出任中央军委审计署审计长 军委机关15个职能部门近期出现一...</td>\n",
       "      <td>田义祥郭春富中央军委审计署</td>\n",
       "      <td>\\n2018年06月14日 13:13\\n澎湃新闻</td>\n",
       "      <td>田义祥少将已出任中央军委审计署审计长</td>\n",
       "      <td>2018-06-14</td>\n",
       "      <td>澎湃新闻</td>\n",
       "    </tr>\n",
       "    <tr>\n",
       "      <th>2</th>\n",
       "      <td>原标题：中央环保督察杀“回马枪” 揪出这些老病、通病 中新网客户端北京6月14日电（冷昊阳）...</td>\n",
       "      <td>定州督察组督察</td>\n",
       "      <td>\\n2018年06月14日 13:08\\n中国新闻网</td>\n",
       "      <td>中央环保督察杀“回马枪” 揪出这些老病通病(图)</td>\n",
       "      <td>2018-06-14</td>\n",
       "      <td>中国新闻网</td>\n",
       "    </tr>\n",
       "  </tbody>\n",
       "</table>\n",
       "</div>"
      ],
      "text/plain": [
       "                                             content        keyword  \\\n",
       "0  原标题：台农发批农业部门：没配套没资源 怎么外销出口 中新网6月14日电 据台湾《联合报》报...      联合报农发农业部门   \n",
       "1  原标题：田义祥少将已接替郭春富少将出任中央军委审计署审计长 军委机关15个职能部门近期出现一...  田义祥郭春富中央军委审计署   \n",
       "2  原标题：中央环保督察杀“回马枪” 揪出这些老病、通病 中新网客户端北京6月14日电（冷昊阳）...        定州督察组督察   \n",
       "\n",
       "                        source                     title   datetime   from  \n",
       "0  \\n2018年06月14日 13:14\\n中国新闻网     台农发批农业部门：没配套没资源 怎么外销出口 2018-06-14  中国新闻网  \n",
       "1   \\n2018年06月14日 13:13\\n澎湃新闻         田义祥少将已出任中央军委审计署审计长 2018-06-14   澎湃新闻  \n",
       "2  \\n2018年06月14日 13:08\\n中国新闻网   中央环保督察杀“回马枪” 揪出这些老病通病(图) 2018-06-14  中国新闻网  "
      ]
     },
     "execution_count": 26,
     "metadata": {},
     "output_type": "execute_result"
    }
   ],
   "source": [
    "df.head(3)"
   ]
  },
  {
   "cell_type": "markdown",
   "metadata": {},
   "source": [
    "## 刪除Source"
   ]
  },
  {
   "cell_type": "code",
   "execution_count": 27,
   "metadata": {
    "collapsed": true
   },
   "outputs": [],
   "source": [
    "#删除source列数据"
   ]
  },
  {
   "cell_type": "code",
   "execution_count": 28,
   "metadata": {
    "collapsed": false
   },
   "outputs": [
    {
     "data": {
      "text/html": [
       "<div>\n",
       "<style scoped>\n",
       "    .dataframe tbody tr th:only-of-type {\n",
       "        vertical-align: middle;\n",
       "    }\n",
       "\n",
       "    .dataframe tbody tr th {\n",
       "        vertical-align: top;\n",
       "    }\n",
       "\n",
       "    .dataframe thead th {\n",
       "        text-align: right;\n",
       "    }\n",
       "</style>\n",
       "<table border=\"1\" class=\"dataframe\">\n",
       "  <thead>\n",
       "    <tr style=\"text-align: right;\">\n",
       "      <th></th>\n",
       "      <th>content</th>\n",
       "      <th>keyword</th>\n",
       "      <th>title</th>\n",
       "      <th>datetime</th>\n",
       "      <th>from</th>\n",
       "    </tr>\n",
       "  </thead>\n",
       "  <tbody>\n",
       "    <tr>\n",
       "      <th>0</th>\n",
       "      <td>原标题：台农发批农业部门：没配套没资源 怎么外销出口 中新网6月14日电 据台湾《联合报》报...</td>\n",
       "      <td>联合报农发农业部门</td>\n",
       "      <td>台农发批农业部门：没配套没资源 怎么外销出口</td>\n",
       "      <td>2018-06-14</td>\n",
       "      <td>中国新闻网</td>\n",
       "    </tr>\n",
       "    <tr>\n",
       "      <th>1</th>\n",
       "      <td>原标题：田义祥少将已接替郭春富少将出任中央军委审计署审计长 军委机关15个职能部门近期出现一...</td>\n",
       "      <td>田义祥郭春富中央军委审计署</td>\n",
       "      <td>田义祥少将已出任中央军委审计署审计长</td>\n",
       "      <td>2018-06-14</td>\n",
       "      <td>澎湃新闻</td>\n",
       "    </tr>\n",
       "    <tr>\n",
       "      <th>2</th>\n",
       "      <td>原标题：中央环保督察杀“回马枪” 揪出这些老病、通病 中新网客户端北京6月14日电（冷昊阳）...</td>\n",
       "      <td>定州督察组督察</td>\n",
       "      <td>中央环保督察杀“回马枪” 揪出这些老病通病(图)</td>\n",
       "      <td>2018-06-14</td>\n",
       "      <td>中国新闻网</td>\n",
       "    </tr>\n",
       "  </tbody>\n",
       "</table>\n",
       "</div>"
      ],
      "text/plain": [
       "                                             content        keyword  \\\n",
       "0  原标题：台农发批农业部门：没配套没资源 怎么外销出口 中新网6月14日电 据台湾《联合报》报...      联合报农发农业部门   \n",
       "1  原标题：田义祥少将已接替郭春富少将出任中央军委审计署审计长 军委机关15个职能部门近期出现一...  田义祥郭春富中央军委审计署   \n",
       "2  原标题：中央环保督察杀“回马枪” 揪出这些老病、通病 中新网客户端北京6月14日电（冷昊阳）...        定州督察组督察   \n",
       "\n",
       "                      title   datetime   from  \n",
       "0    台农发批农业部门：没配套没资源 怎么外销出口 2018-06-14  中国新闻网  \n",
       "1        田义祥少将已出任中央军委审计署审计长 2018-06-14   澎湃新闻  \n",
       "2  中央环保督察杀“回马枪” 揪出这些老病通病(图) 2018-06-14  中国新闻网  "
      ]
     },
     "execution_count": 28,
     "metadata": {},
     "output_type": "execute_result"
    }
   ],
   "source": [
    "df.head(3)"
   ]
  },
  {
   "cell_type": "markdown",
   "metadata": {},
   "source": [
    "## 将整理好的数据储存回Excel"
   ]
  },
  {
   "cell_type": "code",
   "execution_count": 30,
   "metadata": {
    "collapsed": true
   },
   "outputs": [],
   "source": [
    "#将修改后的文件重命名为news_after.xlsx,不保存索引列"
   ]
  }
 ],
 "metadata": {
  "anaconda-cloud": {},
  "kernelspec": {
   "display_name": "Python [Root]",
   "language": "python",
   "name": "Python [Root]"
  },
  "language_info": {
   "codemirror_mode": {
    "name": "ipython",
    "version": 3
   },
   "file_extension": ".py",
   "mimetype": "text/x-python",
   "name": "python",
   "nbconvert_exporter": "python",
   "pygments_lexer": "ipython3",
   "version": "3.5.2"
  }
 },
 "nbformat": 4,
 "nbformat_minor": 2
}
